{
 "cells": [
  {
   "cell_type": "markdown",
   "id": "fda73a18",
   "metadata": {},
   "source": [
    "# Random Forest e Avaliação de Performance\n",
    "\n",
    "## Foco: Modelo Não-Linear de Ensemble e Comparação com a Baseline\n",
    "\n",
    "Este notebook inicia a fase de modelos de **Ensemble** para o problema de classificação de depósitos bancários. O objetivo principal é testar se algoritmos não-lineares podem capturar as interações complexas entre as *features* e, assim, superar a performance da **Regressão Logística Otimizada** (nossa *baseline* de Recall de 0.50 e AUC de 0.89).\n",
    "\n",
    "### Metodologia de Avaliação\n",
    "\n",
    "Continuaremos focando nas métricas de negócio que foram críticas na fase anterior:\n",
    "\n",
    "1.  **Recall da Classe 1 ('yes'):** A métrica mais importante, pois maximiza a captação de clientes que realmente iriam subscrever o depósito.\n",
    "2.  **AUC-ROC:** Avalia o poder de discriminação geral do modelo.\n",
    "\n",
    "O pré-processamento (codificação, *scaling* e *split*) é reutilizado para garantir uma comparação justa entre os modelos.\n",
    "\n",
    "---"
   ]
  },
  {
   "cell_type": "code",
   "execution_count": 1,
   "id": "aa5ff199",
   "metadata": {},
   "outputs": [
    {
     "name": "stdout",
     "output_type": "stream",
     "text": [
      "Dados pré-processados e prontos para o Random Forest.\n",
      "Dimensões do X_train: (36168, 32)\n"
     ]
    }
   ],
   "source": [
    "import pandas as pd\n",
    "import numpy as np\n",
    "from sklearn.model_selection import train_test_split\n",
    "from sklearn.preprocessing import StandardScaler\n",
    "from sklearn.ensemble import RandomForestClassifier\n",
    "from sklearn.metrics import classification_report, confusion_matrix, roc_auc_score\n",
    "\n",
    "# variáveis globais\n",
    "RANDOM_STATE = 42\n",
    "TARGET_COL = 'y'\n",
    "NUMERICAL_COLS = ['age', 'balance', 'day', 'duration', 'campaign', 'pdays', 'previous']\n",
    "OPTIMAL_THRESHOLD_LOGISTIC = 0.291243 # para referência\n",
    "\n",
    "# carregando os dados\n",
    "# idealmente, o dataset processado seria salvo como um arquivo, mas vamos repetir o pré-processamento de dados\n",
    "df = pd.read_csv('../data/bank-full.csv', sep = ';')\n",
    "\n",
    "# pré-processamento\n",
    "df['y'] = df['y'].map({'yes': 1, 'no': 0})\n",
    "binary_cols = ['default', 'housing', 'loan']\n",
    "for col in binary_cols:\n",
    "    df[col] = df[col].map({'yes': 1, 'no': 0})\n",
    "\n",
    "month_order = ['jan', 'feb', 'mar', 'apr', 'may', 'jun', 'jul', 'aug', 'sep', 'oct', 'nov', 'dec']\n",
    "df['month'] = pd.Categorical(df['month'], categories=month_order, ordered=True)\n",
    "df['month'] = df['month'].cat.codes + 1\n",
    "\n",
    "nominal_cols = ['job', 'marital', 'education', 'contact', 'poutcome']\n",
    "df_encoded = pd.get_dummies(df, columns=nominal_cols, drop_first=True, dtype=int)\n",
    "\n",
    "# separação e escalonamento dos dados\n",
    "X = df_encoded.drop(TARGET_COL, axis=1)\n",
    "y = df_encoded[TARGET_COL]\n",
    "\n",
    "X_train, X_test, y_train, y_test = train_test_split(\n",
    "    X, y, test_size=0.2, random_state=RANDOM_STATE, stratify=y\n",
    ")\n",
    "\n",
    "scaler = StandardScaler()\n",
    "X_train[NUMERICAL_COLS] = scaler.fit_transform(X_train[NUMERICAL_COLS])\n",
    "X_test[NUMERICAL_COLS] = scaler.transform(X_test[NUMERICAL_COLS])\n",
    "\n",
    "print(\"Dados pré-processados e prontos para o Random Forest.\")\n",
    "print(f\"Dimensões do X_train: {X_train.shape}\")"
   ]
  },
  {
   "cell_type": "markdown",
   "id": "4361cfb3",
   "metadata": {},
   "source": [
    "### Treinamento do Random Forest (Baseline)\n",
    "\n",
    "Nesta etapa, treinamos o modelo de **Random Forest**, um algoritmo de *Ensemble* baseado em *Bagging*, que é conhecido por sua robustez e capacidade de capturar relações não-lineares nos dados.\n",
    "\n",
    "**Estratégia Adotada:**\n",
    "\n",
    "* **`n_estimators=300`:** Uso de 300 árvores para garantir a estabilidade e reduzir a variância.\n",
    "* **`class_weight='balanced'`:** Utilização do parâmetro para instruir o modelo a dar maior peso à classe minoritária ('yes'), compensando o desbalanceamento de classes (88/12).\n",
    "\n",
    "---"
   ]
  },
  {
   "cell_type": "code",
   "execution_count": 2,
   "id": "d9c1e458",
   "metadata": {},
   "outputs": [
    {
     "name": "stdout",
     "output_type": "stream",
     "text": [
      "Modelo Random Forest treinado com sucesso.\n"
     ]
    }
   ],
   "source": [
    "# treinamento do modelo Random Forest\n",
    "\n",
    "# instanciando o modelo\n",
    "rf_model = RandomForestClassifier(\n",
    "    n_estimators=300,\n",
    "    criterion='gini',\n",
    "    max_depth=None, # inicialmente vamos permitir que as árvores cresçam livremente\n",
    "    random_state=RANDOM_STATE,\n",
    "    class_weight='balanced'\n",
    ")\n",
    "\n",
    "# treinando o modelo\n",
    "rf_model.fit(X_train, y_train)\n",
    "print(\"Modelo Random Forest treinado com sucesso.\")"
   ]
  },
  {
   "cell_type": "markdown",
   "id": "58dca23b",
   "metadata": {},
   "source": [
    "### Validação e Métricas do Random Forest\n",
    "\n",
    "Nesta etapa, avaliamos o desempenho do Random Forest no conjunto de teste. O uso do `class_weight='balanced'` e a natureza não-linear do algoritmo devem, em teoria, melhorar as métricas focadas na classe minoritária ('yes') em relação ao modelo de Regressão Logística.\n",
    "\n",
    "**Foco da Análise:**\n",
    "\n",
    "1.  **Comparação de Recall (Classe 1):** O principal indicador de sucesso. O objetivo é superar o Recall de 0.50 da nossa *baseline* otimizada.\n",
    "2.  **AUC-ROC:** Avaliar se o poder de discriminação do Random Forest (potencialmente mais alto) se mantém superior ao da Regressão Logística (AUC 0.8909).\n",
    "3.  **Matriz de Confusão:** Observar o *trade-off* de Falsos Negativos (erros críticos) e Falsos Positivos (custo de marketing).\n",
    "\n",
    "---"
   ]
  },
  {
   "cell_type": "code",
   "execution_count": 3,
   "id": "fd20c102",
   "metadata": {},
   "outputs": [
    {
     "name": "stdout",
     "output_type": "stream",
     "text": [
      "Matriz de Confusão - Random Forest:\n",
      "[[7838  147]\n",
      " [ 711  347]]\n",
      "\n",
      "Relatório de Classificação - Random Forest:\n",
      "              precision    recall  f1-score   support\n",
      "\n",
      "           0       0.92      0.98      0.95      7985\n",
      "           1       0.70      0.33      0.45      1058\n",
      "\n",
      "    accuracy                           0.91      9043\n",
      "   macro avg       0.81      0.65      0.70      9043\n",
      "weighted avg       0.89      0.91      0.89      9043\n",
      "\n",
      "\n",
      "AUC-ROC - Random Forest: 0.9279\n"
     ]
    }
   ],
   "source": [
    "# avaliação do modelo\n",
    "\n",
    "y_pred_rf = rf_model.predict(X_test)\n",
    "y_proba_rf = rf_model.predict_proba(X_test)[:,1]\n",
    "\n",
    "# matriz de confusão, relatório de classificação e AUC-ROC\n",
    "print(\"Matriz de Confusão - Random Forest:\")\n",
    "print(confusion_matrix(y_test, y_pred_rf))\n",
    "print(\"\\nRelatório de Classificação - Random Forest:\")\n",
    "print(classification_report(y_test, y_pred_rf))\n",
    "auc_roc_rf = roc_auc_score(y_test, y_proba_rf)\n",
    "print(f\"\\nAUC-ROC - Random Forest: {auc_roc_rf:.4f}\")"
   ]
  },
  {
   "cell_type": "markdown",
   "id": "c4b11447",
   "metadata": {},
   "source": [
    "### Análise Comparativa e Próximo Passo\n",
    "\n",
    "O modelo **Random Forest (RF)** demonstra um **potencial de discriminação superior** em relação à Regressão Logística, conforme indicado pelo alto **AUC-ROC (0.9279)**.\n",
    "\n",
    "| Métrica | Logística Otimizada | Random Forest (Baseline) | Insight |\n",
    "| :--- | :--- | :--- | :--- |\n",
    "| **AUC-ROC** | $0.8909$ | **$0.9279$** | RF tem maior poder preditivo geral. |\n",
    "| **Recall (Classe 1)** | $0.50$ (Limiar ajustado) | $0.33$ (Limiar 0.5) | RF falha em atingir o Recall otimizado no limiar padrão. |\n",
    "\n",
    "**Conclusão e Próximo Passo:**\n",
    "\n",
    "O RF está mal calibrado no limiar $0.5$. Antes de otimizar o *threshold* do RF, faremos uma **refatoração de código** essencial.\n",
    "\n",
    "1.  **Refatoração do Pipeline:** Criar um **Pipeline (`ColumnTransformer`)** para encapsular e padronizar as transformações (Escalonamento, One-Hot Encoding e Mapeamento) de forma limpa e robusta.\n",
    "2.  **Otimização do Limiar RF:** Após a refatoração, ajustaremos o limiar do Random Forest para liberar seu potencial (AUC) e superar o Recall de 0.50.\n",
    "\n",
    "---"
   ]
  },
  {
   "cell_type": "markdown",
   "id": "aacc4f93",
   "metadata": {},
   "source": [
    "### Refatoração do Pipeline de Pré-Processamento (POO)\n",
    "\n",
    "Para garantir a **reprodutibilidade, a ausência de *data leakage***, e a **profissionalização** do código, refatoramos a lógica de pré-processamento manual em um *pipeline* estruturado, utilizando Programação Orientada a Objetos (POO) e o `ColumnTransformer` do Scikit-learn.\n",
    "\n",
    "### Componentes de POO Customizados\n",
    "\n",
    "* **`BinaryMapper`:** Transforma colunas 'yes'/'no' em 1/0.\n",
    "* **`MonthMapper`:** Converte nomes de meses para valores ordinais (1 a 12).\n",
    "\n",
    "### ColumnTransformer\n",
    "\n",
    "O `ColumnTransformer` coordena a aplicação de diferentes transformações a diferentes subconjuntos de colunas:\n",
    "\n",
    "* **Custom Transformers (POO):** Aplicados a colunas binárias e ordinais (`month`).\n",
    "* **`OneHotEncoder`:** Aplicado às colunas nominais.\n",
    "* **`StandardScaler`:** Aplicado às colunas numéricas contínuas.\n",
    "\n",
    "Essa estrutura nos permitirá aplicar todas as transformações em uma única chamada `fit_transform()`, o que é fundamental para a próxima fase de validação cruzada.\n",
    "\n",
    "---"
   ]
  },
  {
   "cell_type": "code",
   "execution_count": 4,
   "id": "c0162825",
   "metadata": {},
   "outputs": [
    {
     "name": "stdout",
     "output_type": "stream",
     "text": [
      " Classes importadas e ColumnTransformer definido, pronto para a aplicação.\n"
     ]
    }
   ],
   "source": [
    "# Aplicação do ColumnTransformer (Refatorado) ---\n",
    "\n",
    "# Garantindo que o diretório /src está acessível para importação\n",
    "import sys\n",
    "sys.path.append('../src')\n",
    "\n",
    "# Importando as classes customizadas (POO) do nosso módulo de features\n",
    "from features.custom_transformers import BinaryMapper, MonthMapper\n",
    "from sklearn.compose import ColumnTransformer\n",
    "from sklearn.preprocessing import OneHotEncoder, StandardScaler\n",
    "\n",
    "# Definição das colunas\n",
    "\n",
    "# Redefinimos o TARGET_COL do Notebook 1 (que é 'y')\n",
    "\n",
    "# Colunas binárias que mapearemos de 'yes'/'no'\n",
    "binary_cols = ['default', 'housing', 'loan']\n",
    "\n",
    "# Colunas ordinais (apenas 'month')\n",
    "ordinal_cols = ['month']\n",
    "\n",
    "# Colunas nominais para One-Hot Encoding\n",
    "nominal_cols = ['job', 'marital', 'education', 'contact', 'poutcome']\n",
    "\n",
    "# Colunas numéricas para StandardScaler\n",
    "numerical_cols = ['age', 'balance', 'day', 'duration', 'campaign', 'pdays', 'previous']\n",
    "\n",
    "# Definição do ColumnTransformer\n",
    "\n",
    "preprocessor = ColumnTransformer(\n",
    "    transformers=[\n",
    "        # 1. Transformadores POO\n",
    "        ('binary', BinaryMapper(), binary_cols),\n",
    "        ('month', MonthMapper(), ordinal_cols),\n",
    "\n",
    "        # 2. One-Hot Encoding (Nominais e 'unknown')\n",
    "        ('onehot', OneHotEncoder(handle_unknown='ignore', sparse_output=False, drop='first'), nominal_cols),\n",
    "\n",
    "        # 3. Escalonamento\n",
    "        ('scaler', StandardScaler(), numerical_cols)\n",
    "    ],\n",
    "    remainder='passthrough', # Garante que nenhuma coluna numérica/binária inicial seja duplicada\n",
    "    verbose_feature_names_out=False # Limpa os nomes das colunas\n",
    ")\n",
    "\n",
    "print(\" Classes importadas e ColumnTransformer definido, pronto para a aplicação.\")"
   ]
  },
  {
   "cell_type": "markdown",
   "id": "3e79de6a",
   "metadata": {},
   "source": [
    "### Aplicação do Pipeline e Reorganização dos Dados\n",
    "\n",
    "Nesta etapa, aplicamos o `ColumnTransformer` (preprocessor) configurado aos dados brutos.\n",
    "\n",
    "1.  **Split e Target:** Os dados são carregados e o alvo (`y`) é mapeado e separado **antes** de qualquer outra transformação.\n",
    "2.  **`fit_transform` (Treino):** O `preprocessor.fit_transform` é aplicado ao conjunto de **Treino**. Isso garante que o *scaling* e o *encoding* aprendam seus parâmetros (média, desvio padrão, categorias) apenas com o conjunto de treino.\n",
    "3.  **`transform` (Teste):** O `preprocessor.transform` é aplicado ao conjunto de **Teste** usando os parâmetros aprendidos no treino.\n",
    "\n",
    "Esta é a abordagem padrão para evitar o **Data Leakage** e garantir que as novas *features* (`X_train` e `X_test`) estejam prontas para a modelagem.\n",
    "\n",
    "---"
   ]
  },
  {
   "cell_type": "code",
   "execution_count": 6,
   "id": "dea464f6",
   "metadata": {},
   "outputs": [
    {
     "name": "stdout",
     "output_type": "stream",
     "text": [
      "Dados de Treino e Teste transformados pelo ColumnTransformer.\n",
      "Novo formato do X_train: (36168, 32)\n"
     ]
    }
   ],
   "source": [
    "# Recarregando os dados (para usar o ColumnTransformer no DF não transformado)\n",
    "\n",
    "df = pd.read_csv('../data/bank-full.csv', sep = ';')\n",
    "\n",
    "# mapeamento do alvo\n",
    "df['y'] = df['y'].map({'yes': 1, 'no': 0})\n",
    "TARGET_COL = 'y'\n",
    "\n",
    "# separação entre features e alvo\n",
    "X = df.drop(TARGET_COL, axis=1)\n",
    "y = df[TARGET_COL]\n",
    "\n",
    "X_train_raw, X_test_raw, y_train, y_test = train_test_split(\n",
    "    X, y, \n",
    "    test_size=0.2, \n",
    "    random_state=RANDOM_STATE, \n",
    "    stratify=y\n",
    ")\n",
    "\n",
    "# Aplicação do ColumnTransformer\n",
    "X_train_processed = preprocessor.fit_transform(X_train_raw)\n",
    "X_test_processed = preprocessor.transform(X_test_raw)\n",
    "\n",
    "# Garantindo que as colunas estejam nomeadas\n",
    "feature_names = preprocessor.get_feature_names_out()\n",
    "\n",
    "X_train = pd.DataFrame(X_train_processed, columns=feature_names)\n",
    "X_test = pd.DataFrame(X_test_processed, columns=feature_names)\n",
    "\n",
    "print(\"Dados de Treino e Teste transformados pelo ColumnTransformer.\")\n",
    "print(f\"Novo formato do X_train: {X_train.shape}\")"
   ]
  },
  {
   "cell_type": "markdown",
   "id": "1da9d1d6",
   "metadata": {},
   "source": [
    "### Otimização do Limiar do Random Forest\n",
    "\n",
    "O Random Forest demonstrou um potencial discriminatório superior (AUC: 0.9279). No entanto, seu desempenho no limiar padrão (0.5) não superou o Recall de 0.50 da Regressão Logística otimizada.\n",
    "\n",
    "**Objetivo:** Ajustar o limiar de decisão do Random Forest para liberar seu alto poder de ranqueamento, buscando um **Recall (Classe 1) de 60% ou mais** com a melhor Precisão possível.\n",
    "\n",
    "**Metodologia:**\n",
    "\n",
    "1.  Retreinamento do RF com os dados recém-processados pelo `ColumnTransformer`.\n",
    "2.  Geração da curva ROC para inspecionar a relação *Recall vs. Precisão* (*trade-off*) em diferentes limiares.\n",
    "\n",
    "---"
   ]
  },
  {
   "cell_type": "code",
   "execution_count": 7,
   "id": "e9eaa9c7",
   "metadata": {},
   "outputs": [
    {
     "name": "stdout",
     "output_type": "stream",
     "text": [
      "AUC-ROC Score (Random Forest): 0.9278\n",
      "\n",
      "--- Inspecionando Thresholds Chave (Recall > 0.60) ---\n",
      "     Threshold    Recall  Precision_Proxy\n",
      "152   0.333333  0.603025         0.939261\n",
      "153   0.330000  0.615312         0.937758\n",
      "154   0.326667  0.618147         0.936631\n",
      "155   0.323333  0.620038         0.936130\n",
      "156   0.320000  0.624764         0.935629\n",
      "157   0.316667  0.631380         0.933876\n",
      "158   0.313333  0.634216         0.932999\n",
      "159   0.310000  0.646503         0.931747\n",
      "160   0.306667  0.654064         0.930244\n",
      "161   0.303333  0.659735         0.929242\n"
     ]
    }
   ],
   "source": [
    "# Retreinamento do Random Forest com os dados transformados\n",
    "\n",
    "from sklearn.metrics import roc_curve, auc\n",
    "\n",
    "# Vamos manter os mesmos hiperparâmetros do modelo anterior\n",
    "rf_model.fit(X_train, y_train)\n",
    "\n",
    "# Previsão das probabilidades\n",
    "y_proba_rf = rf_model.predict_proba(X_test)[:,1]\n",
    "\n",
    "# Análise da curva ROC para encontrar o limiar ótimo\n",
    "fpr_rf, tpr_rf, thresholds_rf = roc_curve(y_test, y_proba_rf)\n",
    "roc_auc_rf = auc(fpr_rf, tpr_rf)\n",
    "\n",
    "# Criando um DataFrame para inspecionar thresholds, precision e recall\n",
    "threshold_df_rf = pd.DataFrame({\n",
    "    'Threshold': thresholds_rf,\n",
    "    'Recall': tpr_rf,\n",
    "    'Precision_Proxy': 1 - fpr_rf \n",
    "})\n",
    "\n",
    "print(f\"AUC-ROC Score (Random Forest): {roc_auc_rf:.4f}\")\n",
    "print(\"\\n--- Inspecionando Thresholds Chave (Recall > 0.60) ---\")\n",
    "print(threshold_df_rf[threshold_df_rf['Recall'] >= 0.60].head(10))"
   ]
  },
  {
   "cell_type": "markdown",
   "id": "02b98ecf",
   "metadata": {},
   "source": [
    "### Resultados da Otimização\n",
    "\n",
    "A análise da curva ROC confirmou o potencial do Random Forest:\n",
    "* **AUC-ROC:** O modelo manteve o alto poder discriminatório de **0.9278**.\n",
    "* **Limiar Escolhido:** **0.333333**, que foi selecionado para obter um **Recall teórico de $\\approx 0.603$**. Este valor supera claramente o melhor Recall de **$0.50$** obtido pela Regressão Logística Otimizada.\n",
    "\n",
    "---\n",
    "\n",
    "### Resultados Finais do Random Forest Otimizado\n",
    "\n",
    "Nesta etapa, validamos o Random Forest no conjunto de teste usando o limiar otimizado, escolhido para maximizar a captação de clientes.\n",
    "\n",
    "### Objetivo desta Validação\n",
    "\n",
    "1.  Confirmar o **Recall (Classe 1)** real e garantir que ele seja significativamente maior que a nossa *baseline* (Logística Otimizada: $0.50$).\n",
    "2.  Analisar o *trade-off* na **Precisão (Classe 1)**, observando o aumento aceitável de Falsos Positivos (custo de marketing) em troca de um maior Recall (captação de clientes 'yes').\n",
    "\n",
    "O modelo que apresentar o melhor **Recall** e o melhor **AUC** será o **Modelo Vencedor**.\n",
    "\n",
    "---"
   ]
  },
  {
   "cell_type": "code",
   "execution_count": 8,
   "id": "bf4050cc",
   "metadata": {},
   "outputs": [
    {
     "name": "stdout",
     "output_type": "stream",
     "text": [
      "Matriz de Confusão - Random Forest Otimizado:\n",
      "[[7500  485]\n",
      " [ 420  638]]\n",
      "\n",
      "Relatório de Classificação - Random Forest Otimizado:\n",
      "              precision    recall  f1-score   support\n",
      "\n",
      "           0       0.95      0.94      0.94      7985\n",
      "           1       0.57      0.60      0.59      1058\n",
      "\n",
      "    accuracy                           0.90      9043\n",
      "   macro avg       0.76      0.77      0.76      9043\n",
      "weighted avg       0.90      0.90      0.90      9043\n",
      "\n"
     ]
    }
   ],
   "source": [
    "# Validação final com o limiar otimizado\n",
    "\n",
    "# definindo o limiar otimizado\n",
    "OPTIMAL_THRESHOLD_RF = 0.333333\n",
    "\n",
    "y_proba_rf_optimized = (y_proba_rf >= OPTIMAL_THRESHOLD_RF).astype(int)\n",
    "\n",
    "# Matriz de Confusão, Relatório de Classificação e AUC-ROC final\n",
    "print(\"Matriz de Confusão - Random Forest Otimizado:\")\n",
    "print(confusion_matrix(y_test, y_proba_rf_optimized))\n",
    "print(\"\\nRelatório de Classificação - Random Forest Otimizado:\")\n",
    "print(classification_report(y_test, y_proba_rf_optimized))"
   ]
  },
  {
   "cell_type": "markdown",
   "id": "6a8ea084",
   "metadata": {},
   "source": [
    "### Análise de Importância de Features (Feature Importance)\n",
    "\n",
    "Uma das grandes vantagens dos modelos baseados em árvores (como o Random Forest) é a capacidade de fornecer uma métrica robusta de **Importância de Features**.\n",
    "\n",
    "Esta métrica (*Mean Decrease in Impurity - MDI*, ou Redução Média de Impureza pelo Gini) indica o quanto cada *feature* contribuiu, em média, para reduzir a impureza em todos os *splits* de todas as árvores do modelo.\n",
    "\n",
    "**Foco da Análise:**\n",
    "\n",
    "Identificar as variáveis mais relevantes para a predição da subscrição do depósito bancário. Esta informação é valiosa para a equipe de marketing, permitindo focar esforços e recursos nas características de cliente mais impactantes.\n",
    "\n",
    "---"
   ]
  },
  {
   "cell_type": "code",
   "execution_count": null,
   "id": "94ea98f7",
   "metadata": {},
   "outputs": [
    {
     "data": {
      "image/png": "[encoded data removed]",
      "text/plain": [
       "<Figure size 1000x800 with 1 Axes>"
      ]
     },
     "metadata": {},
     "output_type": "display_data"
    },
    {
     "name": "stdout",
     "output_type": "stream",
     "text": [
      "Top 5 Features mais importantes:\n",
      "duration    0.359140\n",
      "balance     0.085237\n",
      "age         0.078822\n",
      "month       0.078213\n",
      "day         0.074933\n",
      "dtype: float64\n"
     ]
    }
   ],
   "source": [
    "# Importância das Features\n",
    "\n",
    "import matplotlib.pyplot as plt\n",
    "\n",
    "# Cálculo da importância das features\n",
    "importances = rf_model.feature_importances_\n",
    "feature_names = X_train.columns\n",
    "forest_importances = pd.Series(importances, index=feature_names).sort_values(ascending=False)\n",
    "\n",
    "# Plotando as features mais importantes\n",
    "plt.figure(figsize=(10,8))\n",
    "forest_importances.head(15).plot(kind='barh')\n",
    "plt.title('Top 15 Features Importantes no Random Forest')\n",
    "plt.xlabel('Importância')\n",
    "plt.show()\n",
    "\n",
    "print('Top 5 Features mais importantes:')\n",
    "print(forest_importances.head(5))\n"
   ]
  },
  {
   "cell_type": "code",
   "execution_count": null,
   "id": "815609bf",
   "metadata": {},
   "outputs": [],
   "source": [
    "plt.figure(figsize=(10, 8))\n",
    "forest_importances.head(15).plot.bar(color='skyblue')\n",
    "plt.title(\"Top 15 - Importância das Features (Random Forest)\")\n",
    "plt.ylabel(\"Redução Média de Impureza (Gini)\")\n",
    "plt.show()"
   ]
  }
 ],
 "metadata": {
  "kernelspec": {
   "display_name": "venv",
   "language": "python",
   "name": "python3"
  },
  "language_info": {
   "codemirror_mode": {
    "name": "ipython",
    "version": 3
   },
   "file_extension": ".py",
   "mimetype": "text/x-python",
   "name": "python",
   "nbconvert_exporter": "python",
   "pygments_lexer": "ipython3",
   "version": "3.12.10"
  }
 },
 "nbformat": 4,
 "nbformat_minor": 5
}
