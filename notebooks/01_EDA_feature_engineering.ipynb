{
 "cells": [
  {
   "cell_type": "markdown",
   "id": "d30ad88e",
   "metadata": {},
   "source": [
    "# Projeto ML: Classificação de Depósitos Bancários\n",
    "\n",
    "## Foco: Regressão Logística, Pré-Processamento e Validação\n",
    "\n",
    "O objetivo é realizar a Análise Exploratória (EDA) do dataset bancário para prever se um cliente irá subscrever um depósito a prazo (`y`).\n",
    "\n",
    "### Objetivos da EDA\n",
    "\n",
    "1.  **Inspeção Inicial:** Verificar tipos de dados, valores nulos e estatísticas descritivas.\n",
    "2.  **Análise do Alvo:** Avaliar o desbalanceamento da variável de saída (`y`).\n",
    "3.  **Planejamento do Pré-Processamento:** Identificar variáveis categóricas para Encoding e variáveis numéricas para Escalonamento.\n",
    "---"
   ]
  },
  {
   "cell_type": "code",
   "execution_count": 10,
   "id": "92b93a0a",
   "metadata": {},
   "outputs": [
    {
     "name": "stdout",
     "output_type": "stream",
     "text": [
      "Tamanho do dataset:  (45211, 17)\n",
      "\n",
      "Primeiras linhas do dataset:\n",
      "    age           job  marital  education default  balance housing loan  \\\n",
      "0   58    management  married   tertiary      no     2143     yes   no   \n",
      "1   44    technician   single  secondary      no       29     yes   no   \n",
      "2   33  entrepreneur  married  secondary      no        2     yes  yes   \n",
      "3   47   blue-collar  married    unknown      no     1506     yes   no   \n",
      "4   33       unknown   single    unknown      no        1      no   no   \n",
      "\n",
      "   contact  day month  duration  campaign  pdays  previous poutcome   y  \n",
      "0  unknown    5   may       261         1     -1         0  unknown  no  \n",
      "1  unknown    5   may       151         1     -1         0  unknown  no  \n",
      "2  unknown    5   may        76         1     -1         0  unknown  no  \n",
      "3  unknown    5   may        92         1     -1         0  unknown  no  \n",
      "4  unknown    5   may       198         1     -1         0  unknown  no  \n"
     ]
    }
   ],
   "source": [
    "import pandas as pd\n",
    "import numpy as np\n",
    "import matplotlib.pyplot as plt\n",
    "import seaborn as sns\n",
    "\n",
    "# carregando o dataset\n",
    "df = pd.read_csv(\"../data/bank-full.csv\", sep=';')\n",
    "\n",
    "print(\"Tamanho do dataset: \", df.shape)\n",
    "print(\"\\nPrimeiras linhas do dataset:\\n\", df.head())\n"
   ]
  },
  {
   "cell_type": "code",
   "execution_count": 11,
   "id": "4a0862d0",
   "metadata": {},
   "outputs": [
    {
     "name": "stdout",
     "output_type": "stream",
     "text": [
      "<class 'pandas.core.frame.DataFrame'>\n",
      "RangeIndex: 45211 entries, 0 to 45210\n",
      "Data columns (total 17 columns):\n",
      " #   Column     Non-Null Count  Dtype \n",
      "---  ------     --------------  ----- \n",
      " 0   age        45211 non-null  int64 \n",
      " 1   job        45211 non-null  object\n",
      " 2   marital    45211 non-null  object\n",
      " 3   education  45211 non-null  object\n",
      " 4   default    45211 non-null  object\n",
      " 5   balance    45211 non-null  int64 \n",
      " 6   housing    45211 non-null  object\n",
      " 7   loan       45211 non-null  object\n",
      " 8   contact    45211 non-null  object\n",
      " 9   day        45211 non-null  int64 \n",
      " 10  month      45211 non-null  object\n",
      " 11  duration   45211 non-null  int64 \n",
      " 12  campaign   45211 non-null  int64 \n",
      " 13  pdays      45211 non-null  int64 \n",
      " 14  previous   45211 non-null  int64 \n",
      " 15  poutcome   45211 non-null  object\n",
      " 16  y          45211 non-null  object\n",
      "dtypes: int64(7), object(10)\n",
      "memory usage: 5.9+ MB\n",
      "\n",
      "Informações do dataset:\n",
      " None\n"
     ]
    }
   ],
   "source": [
    "print(\"\\nInformações do dataset:\\n\", df.info())"
   ]
  },
  {
   "cell_type": "markdown",
   "id": "b914f711",
   "metadata": {},
   "source": [
    "## Resumo da Inspeção Inicial (Pré-Feature Engineering)\n",
    "\n",
    "A inspeção inicial do DataFrame revelou os seguintes pontos cruciais que guiarão o pré-processamento para o modelo de Regressão Logística:\n",
    "\n",
    "* **Valores Ausentes (NaN):** Não foram encontrados valores nulos.\n",
    "* **Variáveis Categóricas:** 10 colunas são do tipo `object` e exigirão codificação numérica.\n",
    "* **Próximos Passos:**\n",
    "    1.  **Desbalanceamento de Classes:** A distribuição do alvo `y` precisa ser verificada, pois o modelo de classificação será sensível a ele.\n",
    "    2.  **Tratamento de 'unknown':** É necessário quantificar a presença da *string* `'unknown'` nas colunas categóricas, pois ela funciona como um valor ausente."
   ]
  },
  {
   "cell_type": "code",
   "execution_count": 12,
   "id": "8c3dceae",
   "metadata": {},
   "outputs": [
    {
     "name": "stdout",
     "output_type": "stream",
     "text": [
      "\n",
      "Distribuição da variável alvo 'y':\n",
      " y\n",
      "no     0.883015\n",
      "yes    0.116985\n",
      "Name: proportion, dtype: float64\n",
      "\n",
      "Contagem de 'unknown' em colunas categóricas:\n",
      "'job': 288 entradas (0.64%)\n",
      "'education': 1857 entradas (4.11%)\n",
      "'contact': 13020 entradas (28.80%)\n",
      "'poutcome': 36959 entradas (81.75%)\n"
     ]
    }
   ],
   "source": [
    "# análise da variável alvo\n",
    "print(\"\\nDistribuição da variável alvo 'y':\\n\", df['y'].value_counts(normalize=True))\n",
    "\n",
    "# identificação de valores ausentes (unknown)\n",
    "print(\"\\nContagem de 'unknown' em colunas categóricas:\")\n",
    "\n",
    "categorical_cols = df.select_dtypes(include=['object']).columns\n",
    "feature_cols = categorical_cols.drop('y', errors='ignore')\n",
    "\n",
    "for col in feature_cols:\n",
    "    unknown_count = (df[col] == 'unknown').sum()\n",
    "    if unknown_count > 0:\n",
    "        percent_unknown = (unknown_count/len(df))*100\n",
    "        print(f\"'{col}': {unknown_count} entradas ({percent_unknown:.2f}%)\")"
   ]
  },
  {
   "cell_type": "markdown",
   "id": "3c93f544",
   "metadata": {},
   "source": [
    "Com base na análise inicial, o pré-processamento será dividido em três etapas principais para preparar os dados para o modelo de Regressão Logística:\n",
    "\n",
    "### 1. Codificação da Variável Alvo e Binárias\n",
    "\n",
    "* **Target (`y`):** Mapeamento binário (`yes` $\\rightarrow 1$, `no` $\\rightarrow 0$).\n",
    "* **Binárias Simples:** Colunas como `default`, `housing`, e `loan` serão convertidas para $1$ e $0$.\n",
    "\n",
    "### 2. Codificação de Variáveis Ordinais\n",
    "\n",
    "* **`month`:** Será codificada numericamente (Label Encoding) seguindo a ordem temporal correta (1 a 12).\n",
    "* **`education`:** (Será tratada no One-Hot Encoding ou como Ordinal no próximo passo, dependendo da interpretação do `'unknown'`).\n",
    "\n",
    "### 3. Codificação de Variáveis Nominais e Tratamento de 'unknown'\n",
    "\n",
    "* As colunas categóricas restantes (`job`, `education`, `marital`, `contact`, `poutcome`) serão codificadas usando **One-Hot Encoding**.\n",
    "* O One-Hot Encoding (via `pd.get_dummies()`) é ideal aqui, pois ele criará automaticamente uma coluna para a categoria `'unknown'`, o que é útil para capturar se o *desconhecido* é preditivo para a subscrição do depósito."
   ]
  },
  {
   "cell_type": "code",
   "execution_count": null,
   "id": "c7727a5f",
   "metadata": {},
   "outputs": [
    {
     "name": "stdout",
     "output_type": "stream",
     "text": [
      "\n",
      "Distribuição da variável alvo 'y' após codificação:\n",
      " y\n",
      "0    0.883015\n",
      "1    0.116985\n",
      "Name: proportion, dtype: float64\n",
      "\n",
      "Verificação dos tipos de dados após a codificação:\n",
      "\n",
      "month       int8\n",
      "loan       int64\n",
      "housing    int64\n",
      "default    int64\n",
      "y          int64\n",
      "dtype: object\n"
     ]
    }
   ],
   "source": [
    "# --- Etapa 1: Codificação da variável alvo e binárias ---\n",
    "\n",
    "df['y'] = df['y'].map({'yes': 1, 'no': 0})\n",
    "print(\"\\nDistribuição da variável alvo 'y' após codificação:\\n\", df['y'].value_counts(normalize=True))\n",
    "\n",
    "binary_cols = ['default', 'housing', 'loan']\n",
    "for col in binary_cols:\n",
    "    df[col] = df[col].map({'yes': 1, 'no': 0})\n",
    "\n",
    "\n",
    "# --- Etapa 2: Codificação da variável 'month' ---\n",
    "\n",
    "month_order = ['jan', 'feb', 'mar', 'apr', 'may', 'jun', 'jul', 'aug', 'sep', 'oct', 'nov', 'dec']\n",
    "\n",
    "df['month'] = pd.Categorical(df['month'], categories=month_order, ordered=True)\n",
    "\n",
    "df['month'] = df['month'].cat.codes + 1  # +1 para começar de 1 (jan=1, feb=2, ..., dec=12)\n",
    "\n",
    "print(\"\\nVerificação dos tipos de dados após a codificação:\\n\")\n",
    "print(df[['month', 'loan', 'housing', 'default', 'y']].dtypes)\n"
   ]
  },
  {
   "cell_type": "code",
   "execution_count": 17,
   "id": "a972fc3e",
   "metadata": {},
   "outputs": [
    {
     "name": "stdout",
     "output_type": "stream",
     "text": [
      "\n",
      "--- Verificação após One-Hot Encoding ---\n",
      "Novo Tamanho do Dataset: (45211, 33)\n",
      "\n",
      "Tipos de Dados:\n",
      "<class 'pandas.core.frame.DataFrame'>\n",
      "RangeIndex: 45211 entries, 0 to 45210\n",
      "Data columns (total 33 columns):\n",
      " #   Column               Non-Null Count  Dtype\n",
      "---  ------               --------------  -----\n",
      " 0   age                  45211 non-null  int64\n",
      " 1   default              45211 non-null  int64\n",
      " 2   balance              45211 non-null  int64\n",
      " 3   housing              45211 non-null  int64\n",
      " 4   loan                 45211 non-null  int64\n",
      " 5   day                  45211 non-null  int64\n",
      " 6   month                45211 non-null  int8 \n",
      " 7   duration             45211 non-null  int64\n",
      " 8   campaign             45211 non-null  int64\n",
      " 9   pdays                45211 non-null  int64\n",
      " 10  previous             45211 non-null  int64\n",
      " 11  y                    45211 non-null  int64\n",
      " 12  job_blue-collar      45211 non-null  int64\n",
      " 13  job_entrepreneur     45211 non-null  int64\n",
      " 14  job_housemaid        45211 non-null  int64\n",
      " 15  job_management       45211 non-null  int64\n",
      " 16  job_retired          45211 non-null  int64\n",
      " 17  job_self-employed    45211 non-null  int64\n",
      " 18  job_services         45211 non-null  int64\n",
      " 19  job_student          45211 non-null  int64\n",
      " 20  job_technician       45211 non-null  int64\n",
      " 21  job_unemployed       45211 non-null  int64\n",
      " 22  job_unknown          45211 non-null  int64\n",
      " 23  marital_married      45211 non-null  int64\n",
      " 24  marital_single       45211 non-null  int64\n",
      " 25  education_secondary  45211 non-null  int64\n",
      " 26  education_tertiary   45211 non-null  int64\n",
      " 27  education_unknown    45211 non-null  int64\n",
      " 28  contact_telephone    45211 non-null  int64\n",
      " 29  contact_unknown      45211 non-null  int64\n",
      " 30  poutcome_other       45211 non-null  int64\n",
      " 31  poutcome_success     45211 non-null  int64\n",
      " 32  poutcome_unknown     45211 non-null  int64\n",
      "dtypes: int64(32), int8(1)\n",
      "memory usage: 11.1 MB\n",
      "None\n"
     ]
    }
   ],
   "source": [
    "# --- Etapa 3: Codificação das variáveis nominais ---\n",
    "\n",
    "nominal_cols = ['job', 'marital', 'education', 'contact', 'poutcome']\n",
    "\n",
    "# aplicando One-Hot Encoding\n",
    "df_encoded = pd.get_dummies(df, columns=nominal_cols, drop_first=True, dtype=int)\n",
    "\n",
    "print(\"\\n--- Verificação após One-Hot Encoding ---\")\n",
    "print(f\"Novo Tamanho do Dataset: {df_encoded.shape}\")\n",
    "print(\"\\nTipos de Dados:\")\n",
    "print(df_encoded.info())"
   ]
  },
  {
   "cell_type": "markdown",
   "id": "e86f0edc",
   "metadata": {},
   "source": [
    "### Separação de Dados e Treinamento do Modelo\n",
    "\n",
    "Com o Feature Engineering concluído, o próximo passo é preparar os dados finais e treinar o modelo de Machine Learning.\n",
    "\n",
    "### 1. Separação (Split)\n",
    "\n",
    "* O conjunto de dados é dividido em **Treino (80%)** e **Teste (20%)** usando `train_test_split`.\n",
    "* Utilizaremos o parâmetro `stratify=y` para garantir que o **desbalanceamento de classes** (88% 'no' vs. 12% 'yes') seja mantido proporcionalmente em ambos os conjuntos.\n",
    "\n",
    "### 2. Escalonamento\n",
    "\n",
    "* As *features* numéricas (`age`, `balance`, `duration`, etc.) são padronizadas usando **`StandardScaler`**.\n",
    "\n",
    "### 3. Modelagem\n",
    "\n",
    "* O modelo de **Regressão Logística** será treinado para estabelecer a *baseline* de desempenho para este problema de classificação binária.\n",
    "---"
   ]
  },
  {
   "cell_type": "code",
   "execution_count": 18,
   "id": "69c7ebd4",
   "metadata": {},
   "outputs": [
    {
     "name": "stdout",
     "output_type": "stream",
     "text": [
      "\n",
      "Modelo treinado com sucesso!\n"
     ]
    }
   ],
   "source": [
    "# split e escalonamento\n",
    "from sklearn.model_selection import train_test_split\n",
    "from sklearn.preprocessing import StandardScaler\n",
    "from sklearn.linear_model import LogisticRegression\n",
    "from sklearn.metrics import classification_report, confusion_matrix, roc_auc_score\n",
    "\n",
    "X = df_encoded.drop('y', axis=1)\n",
    "y = df_encoded['y']\n",
    "\n",
    "X_train, X_test, y_train, y_test = train_test_split(X, y, test_size=0.2, random_state=42, stratify=y)\n",
    "\n",
    "# selecionando colunas numéricas para escalonamento\n",
    "\n",
    "numeric_cols = ['age', 'balance', 'day', 'duration', 'campaign', 'pdays', 'previous']\n",
    "\n",
    "scaler = StandardScaler()\n",
    "\n",
    "X_train[numeric_cols] = scaler.fit_transform(X_train[numeric_cols])\n",
    "X_test[numeric_cols] = scaler.transform(X_test[numeric_cols])\n",
    "\n",
    "# treinamento do modelo\n",
    "modelo = LogisticRegression(max_iter=1000, random_state=42)\n",
    "modelo.fit(X_train, y_train)\n",
    "\n",
    "print(\"\\nModelo treinado com sucesso!\")"
   ]
  },
  {
   "cell_type": "markdown",
   "id": "482caafb",
   "metadata": {},
   "source": [
    "### Validação do Modelo\n",
    "\n",
    "Focaremos na avaliação do desempenho do modelo de Regressão Logística no conjunto de dados de teste (dados não vistos).\n",
    "\n",
    "Dada a natureza do problema e o **desbalanceamento de classes** (aproximadamente 88% 'no' vs. 12% 'yes'), a **Acurácia** é uma métrica insuficiente.\n",
    "\n",
    "**Foco da Análise:**\n",
    "\n",
    "1.  **Matriz de Confusão:** Para entender onde o modelo está errando (Falsos Positivos e Falsos Negativos).\n",
    "2.  **Recall (Revocação):** Quão bem o modelo consegue identificar a classe minoritária ('yes'). Esta é a métrica mais crítica, pois queremos maximizar a captação de clientes que subscreverão o depósito.\n",
    "3.  **F1-Score:** Média harmônica entre Precisão e Recall.\n",
    "4.  **AUC-ROC:** Avalia a capacidade de discriminação do modelo ao longo de todos os limiares.\n",
    "---"
   ]
  },
  {
   "cell_type": "code",
   "execution_count": 19,
   "id": "11b81f79",
   "metadata": {},
   "outputs": [
    {
     "name": "stdout",
     "output_type": "stream",
     "text": [
      "\n",
      "Matriz de Confusão:\n",
      " [[7804  181]\n",
      " [ 731  327]]\n",
      "\n",
      "Relatório de Classificação:\n",
      "               precision    recall  f1-score   support\n",
      "\n",
      "           0       0.91      0.98      0.94      7985\n",
      "           1       0.64      0.31      0.42      1058\n",
      "\n",
      "    accuracy                           0.90      9043\n",
      "   macro avg       0.78      0.64      0.68      9043\n",
      "weighted avg       0.88      0.90      0.88      9043\n",
      "\n",
      "AUC-ROC: 0.8909\n"
     ]
    }
   ],
   "source": [
    "# previsões e avaliação\n",
    "\n",
    "y_pred = modelo.predict(X_test)\n",
    "y_proba = modelo.predict_proba(X_test)[:, 1] # probabilidades para AUC \n",
    "\n",
    "# matriz de confusão\n",
    "print(\"\\nMatriz de Confusão:\\n\", confusion_matrix(y_test, y_pred))\n",
    "\n",
    "# relatório de classificação\n",
    "print(\"\\nRelatório de Classificação:\\n\", classification_report(y_test, y_pred))\n",
    "\n",
    "# AUC-ROC\n",
    "auc_score = roc_auc_score(y_test, y_proba)\n",
    "print(f\"AUC-ROC: {auc_score:.4f}\")"
   ]
  },
  {
   "cell_type": "markdown",
   "id": "9e690bc4",
   "metadata": {},
   "source": [
    "### Insights da Validação (Regressão Logística - Baseline)\n",
    "\n",
    "A avaliação do modelo **Baseline** (Regressão Logística) no conjunto de teste revelou uma performance mista, fortemente influenciada pelo **desbalanceamento de classes** (88% 'no' vs. 12% 'yes'):\n",
    "\n",
    "### 1. Pontos Fortes\n",
    "\n",
    "* **Acurácia e AUC:** A **Acurácia de 0.90** e o **AUC-ROC de 0.8909** são fortes. O alto AUC indica que o modelo tem uma excelente capacidade de **discriminação** entre as classes.\n",
    "\n",
    "### 2. Ponto de Falha Crítico\n",
    "\n",
    "* **Falsos Negativos (731):** Este é o maior erro. O modelo está falhando em identificar **731 clientes** que realmente iriam subscrever o depósito.\n",
    "* **Baixo Recall (Classe 1):** O **Recall de 0.31** (31%) para a classe 'yes' é inaceitável para um problema de marketing, pois significa que a campanha estaria perdendo a maioria dos clientes positivos.\n",
    "\n",
    "### 3. Plano de Ação\n",
    "\n",
    "O problema não é o poder preditivo do modelo (dado o alto AUC), mas sim a sua **calibração**. O limiar de decisão padrão (0.5) é muito alto, levando o modelo a ser excessivamente conservador e prever 'no' na maioria das vezes. \n",
    "\n",
    "O próximo passo é realizar uma **análise da curva ROC e do limiar de decisão** para encontrar um novo ponto de corte que maximize o **Recall** (capturando mais clientes 'yes'), mantendo a **Precisão** em um nível aceitável.\n",
    "\n",
    "---"
   ]
  },
  {
   "cell_type": "code",
   "execution_count": 21,
   "id": "ff7ddccd",
   "metadata": {},
   "outputs": [
    {
     "name": "stdout",
     "output_type": "stream",
     "text": [
      "AUC: 0.8909\n"
     ]
    },
    {
     "data": {
      "image/png": "[encoded data removed]",
      "text/plain": [
       "<Figure size 800x600 with 1 Axes>"
      ]
     },
     "metadata": {},
     "output_type": "display_data"
    },
    {
     "name": "stdout",
     "output_type": "stream",
     "text": [
      "--------------------------------------------------\n",
      "\n",
      "Análise de Thresholds:\n",
      "\n",
      "     Threshold    Recall  Precision\n",
      "442   0.291243  0.500000   0.950031\n",
      "443   0.291054  0.500000   0.949906\n",
      "444   0.290424  0.500945   0.949906\n",
      "445   0.289776  0.500945   0.949656\n",
      "446   0.288588  0.502836   0.949656\n"
     ]
    }
   ],
   "source": [
    "from sklearn.metrics import roc_curve, auc\n",
    "\n",
    "fpr, tpr, thresholds = roc_curve(y_test, y_proba)\n",
    "roc_auc = auc(fpr, tpr)\n",
    "\n",
    "print(f\"AUC: {roc_auc:.4f}\")\n",
    "\n",
    "# plot da curva ROC\n",
    "plt.figure(figsize=(8,6))\n",
    "plt.plot(fpr, tpr, color='darkorange', lw=2, label=f'Curva ROC (área = {roc_auc:.4f})')\n",
    "plt.plot([0, 1], [0, 1], color='navy', lw=2, linestyle='--', label = 'Random')\n",
    "plt.xlim([0.0, 1.0])\n",
    "plt.ylim([0.0, 1.05])\n",
    "plt.xlabel('Taxa de Falsos Positivos (FPR)')\n",
    "plt.ylabel('Taxa de Verdadeiros Positivos (TPR - Recall)')\n",
    "plt.title('Curva ROC')\n",
    "plt.legend(loc=\"lower right\")\n",
    "plt.grid(True)\n",
    "plt.show()\n",
    "\n",
    "print('-'*50)\n",
    "\n",
    "# criando um DataFrame para análise de thresholds\n",
    "thresholds_df = pd.DataFrame({\n",
    "    'Threshold': thresholds,\n",
    "    'Recall': tpr,\n",
    "    'Precision': 1 - fpr # 1 - FPR é a precisão aproximada\n",
    "})\n",
    "\n",
    "print(\"\\nAnálise de Thresholds:\\n\")\n",
    "print(thresholds_df[thresholds_df['Recall'] >= 0.5].head()) # filtrando thresholds com Recall maior que 50%"
   ]
  },
  {
   "cell_type": "markdown",
   "id": "c4901d82",
   "metadata": {},
   "source": [
    "### Aplicação e Resultados Finais do *Threshold* Otimizado\n",
    "\n",
    "A análise da Curva ROC e dos *thresholds* confirmou que o modelo tem alto poder discriminatório (AUC: 0.8909), mas estava mal calibrado pelo limiar padrão (0.5), resultando em baixo Recall (0.31).\n",
    "\n",
    "### Decisão Estratégica\n",
    "\n",
    "Para priorizar a identificação de clientes 'yes' (maximizando o Recall), o limiar de decisão será ajustado para o valor que garante, no mínimo, **50% de Recall** (Taxa de Verdadeiros Positivos).\n",
    "\n",
    "* **Limiar Otimizado Escolhido:** **0.291243**\n",
    "\n",
    "Este novo limiar será aplicado às probabilidades preditas para gerar novas classificações e reavaliar o desempenho do modelo em relação às métricas de negócio (Recall e F1-Score).\n",
    "\n",
    "---"
   ]
  },
  {
   "cell_type": "code",
   "execution_count": 22,
   "id": "4e86d9cc",
   "metadata": {},
   "outputs": [
    {
     "name": "stdout",
     "output_type": "stream",
     "text": [
      "--- Revalidação com Limiar Otimizado (0.2912) ---\n",
      "\n",
      "Matriz de Confusão (Threshold Otimizado):\n",
      " [[7586  399]\n",
      " [ 530  528]]\n",
      "\n",
      "Relatório de Classificação (Threshold Otimizado):\n",
      "               precision    recall  f1-score   support\n",
      "\n",
      "           0       0.93      0.95      0.94      7985\n",
      "           1       0.57      0.50      0.53      1058\n",
      "\n",
      "    accuracy                           0.90      9043\n",
      "   macro avg       0.75      0.72      0.74      9043\n",
      "weighted avg       0.89      0.90      0.89      9043\n",
      "\n"
     ]
    }
   ],
   "source": [
    "# definindo o threshold otimizado\n",
    "OPTIMAL_THRESHOLD = 0.291243\n",
    "\n",
    "# criando nova previsão\n",
    "y_pred_optimized = (y_proba >= OPTIMAL_THRESHOLD).astype(int)\n",
    "\n",
    "print(f\"--- Revalidação com Limiar Otimizado ({OPTIMAL_THRESHOLD:.4f}) ---\")\n",
    "# matriz de confusão otimizada\n",
    "print(\"\\nMatriz de Confusão (Threshold Otimizado):\\n\", confusion_matrix(y_test, y_pred_optimized))\n",
    "\n",
    "# relatório de classificação otimizado\n",
    "print(\"\\nRelatório de Classificação (Threshold Otimizado):\\n\", classification_report(y_test, y_pred_optimized))"
   ]
  }
 ],
 "metadata": {
  "kernelspec": {
   "display_name": "venv",
   "language": "python",
   "name": "python3"
  },
  "language_info": {
   "codemirror_mode": {
    "name": "ipython",
    "version": 3
   },
   "file_extension": ".py",
   "mimetype": "text/x-python",
   "name": "python",
   "nbconvert_exporter": "python",
   "pygments_lexer": "ipython3",
   "version": "3.12.10"
  }
 },
 "nbformat": 4,
 "nbformat_minor": 5
}
